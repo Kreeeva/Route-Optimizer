{
 "cells": [
  {
   "cell_type": "code",
   "execution_count": 4,
   "metadata": {},
   "outputs": [],
   "source": [
    "## for data\n",
    "import pandas as pd  #1.1.5\n",
    "import numpy as np  #1.21.0\n",
    "\n",
    "## for plotting\n",
    "import matplotlib.pyplot as plt  #3.3.2\n",
    "import seaborn as sns  #0.11.1\n",
    "import folium  #0.14.0\n",
    "from folium import plugins\n",
    "import plotly.express as px  #5.1.0\n",
    "\n",
    "## for simple routing\n",
    "import osmnx as ox  #1.2.2\n",
    "import networkx as nx  #3.0\n",
    "\n",
    "## for advanced routing \n",
    "from ortools.constraint_solver import pywrapcp  #9.6\n",
    "from ortools.constraint_solver import routing_enums_pb2"
   ]
  }
 ],
 "metadata": {
  "kernelspec": {
   "display_name": ".venv",
   "language": "python",
   "name": "python3"
  },
  "language_info": {
   "codemirror_mode": {
    "name": "ipython",
    "version": 3
   },
   "file_extension": ".py",
   "mimetype": "text/x-python",
   "name": "python",
   "nbconvert_exporter": "python",
   "pygments_lexer": "ipython3",
   "version": "3.11.0"
  }
 },
 "nbformat": 4,
 "nbformat_minor": 2
}
